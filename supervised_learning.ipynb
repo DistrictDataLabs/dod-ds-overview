{
 "cells": [
  {
   "cell_type": "markdown",
   "metadata": {},
   "source": [
    "# Supervised Learning\n",
    "This notebook demonstrates a variety of supervised learning approaches--from simple linear regression to random forests.\n",
    "\n",
    "If you are interested in learning from data, specifically labelled data, then this notebook will help guide you through learning from data with Python. We'll use some key Python statistics and machine learning libaries:\n",
    "\n",
    "* `sci-kit learn`\n",
    "* `statsmodels`\n",
    "\n",
    "We'll use basic information about baseball players such as height, weight, and handedness to try to predict average runs scored per season. This could be used in player recruiting models (e.g. \"moneyball\"). \n",
    "\n",
    "The data we will use comes from [Sean Lahman](http://www.seanlahman.com/baseball-archive/statistics/). He has provided a [data dictionary](http://www.seanlahman.com/files/database/readme2017.txt) as well, which is critical for understanding the data sources.\n",
    "\n",
    "Let's get started by importing some packages we'll need:"
   ]
  },
  {
   "cell_type": "code",
   "execution_count": 48,
   "metadata": {},
   "outputs": [],
   "source": [
    "import numpy as np\n",
    "import pandas as pd\n",
    "import time\n",
    "import matplotlib.pyplot as plt\n",
    "\n",
    "import statsmodels.api as sm\n",
    "import statsmodels.formula.api as smf\n",
    "\n",
    "from sklearn.preprocessing import MinMaxScaler\n",
    "from sklearn.cross_validation import train_test_split\n",
    "from sklearn.naive_bayes import MultinomialNB\n",
    "from sklearn.linear_model import LinearRegression, LogisticRegression\n",
    "from sklearn.svm import LinearSVC, LinearSVR\n",
    "from sklearn.ensemble import RandomForestClassifier, RandomForestRegressor\n",
    "from sklearn.metrics import mean_squared_error, mean_absolute_error, accuracy_score, precision_score, recall_score\n",
    "%matplotlib inline"
   ]
  },
  {
   "cell_type": "markdown",
   "metadata": {},
   "source": [
    "### Loading our data"
   ]
  },
  {
   "cell_type": "markdown",
   "metadata": {},
   "source": [
    "Next, let's load the Lahman players data and batting data. Note that these are two separate `.csv` files. The first we'll load as a dataframe called `players` and the second as a dataframe called `batting`. "
   ]
  },
  {
   "cell_type": "code",
   "execution_count": 24,
   "metadata": {},
   "outputs": [],
   "source": [
    "players = pd.read_csv('data/People.csv')\n",
    "batting = pd.read_csv('data/Batting.csv')"
   ]
  },
  {
   "cell_type": "code",
   "execution_count": 25,
   "metadata": {},
   "outputs": [
    {
     "name": "stdout",
     "output_type": "stream",
     "text": [
      "There are 19370 players in the dataset.\n",
      "There are 104324 batting records in the dataset.\n"
     ]
    }
   ],
   "source": [
    "print(\"There are {0} players in the dataset.\".format(players.shape[0]))\n",
    "print(\"There are {0} batting records in the dataset.\".format(batting.shape[0]))"
   ]
  },
  {
   "cell_type": "markdown",
   "metadata": {},
   "source": [
    "Note that there are far more batting records than there are players. That is because each batting record corresponds to a specific player _in a specific year_. We can handle this by calculating the average runs per season per player. This will give us a sense as to how the player generally does overall, instead of in any specific year."
   ]
  },
  {
   "cell_type": "code",
   "execution_count": 26,
   "metadata": {},
   "outputs": [],
   "source": [
    "avg_runs = pd.DataFrame(batting.groupby(['playerID']).R.mean())"
   ]
  },
  {
   "cell_type": "markdown",
   "metadata": {},
   "source": [
    "Let's check on a player we recognize. I know that `harperbr03` is the `playerID` for Bryce Harper of the Washington Nationals. Let's take a look at his average runs (per season):"
   ]
  },
  {
   "cell_type": "code",
   "execution_count": 27,
   "metadata": {},
   "outputs": [
    {
     "data": {
      "text/plain": [
       "R    84.5\n",
       "Name: harpebr03, dtype: float64"
      ]
     },
     "execution_count": 27,
     "metadata": {},
     "output_type": "execute_result"
    }
   ],
   "source": [
    "avg_runs.loc['harpebr03']"
   ]
  },
  {
   "cell_type": "markdown",
   "metadata": {},
   "source": [
    "### Merging player data with batting data\n",
    "Now, let's join the two datasets. We want to know, for each player, what were his average runs per season as well as his vital stats. So let's do a left join:"
   ]
  },
  {
   "cell_type": "code",
   "execution_count": 28,
   "metadata": {},
   "outputs": [],
   "source": [
    "df = players.set_index('playerID').join(avg_runs, how='left')"
   ]
  },
  {
   "cell_type": "markdown",
   "metadata": {},
   "source": [
    "Let's focus on just players who actually have scored runs:"
   ]
  },
  {
   "cell_type": "code",
   "execution_count": 29,
   "metadata": {},
   "outputs": [],
   "source": [
    "df = df[df['R'] > 0]"
   ]
  },
  {
   "cell_type": "code",
   "execution_count": 30,
   "metadata": {},
   "outputs": [
    {
     "name": "stdout",
     "output_type": "stream",
     "text": [
      "There are 13596 players who scored runs.\n"
     ]
    }
   ],
   "source": [
    "print(\"There are {0} players who scored runs.\".format(df.shape[0]))"
   ]
  },
  {
   "cell_type": "markdown",
   "metadata": {},
   "source": [
    "### Generating dummy variables\n",
    "We can't just feed algorithms categorical information such as handedness. How will our model understand the difference between \"left hand\" and \"right hand\"? To get around this we can create dummy variables.\n",
    "\n",
    "Dummy variables take each of the categories and convert it into its own column with binary values. So a right handed player would have values `1` for the `right_handed` column and `0` for the `left_handed` column. That's something we can work with! So, let's generate dummy variables for whether the player bats and throws righthanded, lefthanded, or both."
   ]
  },
  {
   "cell_type": "code",
   "execution_count": 31,
   "metadata": {},
   "outputs": [],
   "source": [
    "bats_dummies = pd.get_dummies(df.bats, prefix='bats')\n",
    "throws_dummies = pd.get_dummies(df.throws, prefix='throws')"
   ]
  },
  {
   "cell_type": "markdown",
   "metadata": {},
   "source": [
    "Now we need to add these dummy variable columns to our dataframe:"
   ]
  },
  {
   "cell_type": "code",
   "execution_count": 32,
   "metadata": {},
   "outputs": [],
   "source": [
    "df = df.join(bats_dummies)\n",
    "df = df.join(throws_dummies)"
   ]
  },
  {
   "cell_type": "markdown",
   "metadata": {},
   "source": [
    "### Assessing average runs\n",
    "Before we get started learning from data, let's try to understand a typical player's performance. We can use a kernel density estimation plot on average runs to get a sense for the distribution of runs we can expect from players:"
   ]
  },
  {
   "cell_type": "code",
   "execution_count": 61,
   "metadata": {
    "scrolled": true
   },
   "outputs": [
    {
     "data": {
      "text/plain": [
       "(0, 193.91677018633538)"
      ]
     },
     "execution_count": 61,
     "metadata": {},
     "output_type": "execute_result"
    },
    {
     "data": {
      "image/png": "[encoded data removed]",
      "text/plain": [
       "<Figure size 432x288 with 1 Axes>"
      ]
     },
     "metadata": {},
     "output_type": "display_data"
    }
   ],
   "source": [
    "plot = df['R'].plot(kind='kde')\n",
    "plot.set_xlim(0,)"
   ]
  },
  {
   "cell_type": "markdown",
   "metadata": {},
   "source": [
    "We can see that this looks like a log-normal distribution. This makes sense and is actually the case for many natural phenomenon. Consider height, for example, there is a natural limit to the height a person can grow to so density at its higher bounds is very small. \n",
    "\n",
    "We can check this by looking at the distribution of `log(runs)`."
   ]
  },
  {
   "cell_type": "code",
   "execution_count": 65,
   "metadata": {},
   "outputs": [],
   "source": [
    "df['R_log'] = np.log(df.R)"
   ]
  },
  {
   "cell_type": "code",
   "execution_count": 66,
   "metadata": {},
   "outputs": [
    {
     "data": {
      "text/plain": [
       "(0, 9.557392426547839)"
      ]
     },
     "execution_count": 66,
     "metadata": {},
     "output_type": "execute_result"
    },
    {
     "data": {
      "image/png": "[encoded data removed]",
      "text/plain": [
       "<Figure size 432x288 with 1 Axes>"
      ]
     },
     "metadata": {},
     "output_type": "display_data"
    }
   ],
   "source": [
    "plot = df['R_log'].plot(kind='kde')\n",
    "plot.set_xlim(0,)"
   ]
  },
  {
   "cell_type": "markdown",
   "metadata": {},
   "source": [
    "It does look more \"normal\" (though not perfectly so). I most cases, we would want to identify the functional form of the distribution and convert it to a normal (or gaussian) distribution prior to learning from it. However, that complicates interpretation of our data so we will continue using the non-transformed variables."
   ]
  },
  {
   "cell_type": "code",
   "execution_count": 67,
   "metadata": {},
   "outputs": [
    {
     "name": "stdout",
     "output_type": "stream",
     "text": [
      "On average, players we're considering scored 6.21 runs per season.\n"
     ]
    }
   ],
   "source": [
    "total_median_runs = df['R'].median()\n",
    "print(\"On average, players we're considering scored {0} runs per season.\".format(round(total_median_runs,2)))"
   ]
  },
  {
   "cell_type": "markdown",
   "metadata": {},
   "source": [
    "### Regression"
   ]
  },
  {
   "cell_type": "markdown",
   "metadata": {},
   "source": [
    "Let's focus just on the features we think will be predictive of runs:\n",
    "\n",
    "- birth month\n",
    "- weight\n",
    "- height\n",
    "- batting hand\n",
    "- throwing hand\n",
    "\n",
    "We can subset our data to reflect these features of interest. We can also set our X (explanatory variable) and y (response variables)."
   ]
  },
  {
   "cell_type": "code",
   "execution_count": 68,
   "metadata": {},
   "outputs": [],
   "source": [
    "df = df.reset_index()\n",
    "df = df[['birthMonth','weight','height','bats_B','bats_L','bats_R','throws_L','throws_R', 'R']].dropna()\n",
    "X = df[['birthMonth','weight','height','bats_B','bats_L','bats_R','throws_L','throws_R']]\n",
    "y = df['R']"
   ]
  },
  {
   "cell_type": "markdown",
   "metadata": {},
   "source": [
    "Now let's split our data into training and test sets. We will specify that 20% of that data should be held back for testing purposes:"
   ]
  },
  {
   "cell_type": "code",
   "execution_count": 69,
   "metadata": {},
   "outputs": [],
   "source": [
    "X_train, X_test, y_train, y_test = train_test_split(X, y, test_size=0.2)"
   ]
  },
  {
   "cell_type": "markdown",
   "metadata": {},
   "source": [
    "Next, we can fit the ordinary least squares regression model to our data:"
   ]
  },
  {
   "cell_type": "code",
   "execution_count": 72,
   "metadata": {},
   "outputs": [
    {
     "name": "stdout",
     "output_type": "stream",
     "text": [
      "                            OLS Regression Results                            \n",
      "==============================================================================\n",
      "Dep. Variable:                      R   R-squared:                       0.403\n",
      "Model:                            OLS   Adj. R-squared:                  0.402\n",
      "Method:                 Least Squares   F-statistic:                     878.0\n",
      "Date:                Tue, 07 Aug 2018   Prob (F-statistic):               0.00\n",
      "Time:                        11:48:41   Log-Likelihood:                -45472.\n",
      "No. Observations:               10420   AIC:                         9.096e+04\n",
      "Df Residuals:                   10412   BIC:                         9.102e+04\n",
      "Df Model:                           8                                         \n",
      "Covariance Type:            nonrobust                                         \n",
      "==============================================================================\n",
      "                 coef    std err          t      P>|t|      [0.025      0.975]\n",
      "------------------------------------------------------------------------------\n",
      "birthMonth     0.0251      0.054      0.468      0.640      -0.080       0.130\n",
      "weight        -0.0181      0.011     -1.653      0.098      -0.040       0.003\n",
      "height         0.1421      0.034      4.167      0.000       0.075       0.209\n",
      "bats_B        13.1663      1.677      7.852      0.000       9.879      16.453\n",
      "bats_L        13.5335      1.590      8.514      0.000      10.418      16.649\n",
      "bats_R         6.2875      1.557      4.039      0.000       3.236       9.339\n",
      "throws_L      -5.9263      1.741     -3.404      0.001      -9.339      -2.513\n",
      "throws_R       0.7321      1.670      0.438      0.661      -2.542       4.006\n",
      "==============================================================================\n",
      "Omnibus:                     2874.385   Durbin-Watson:                   1.981\n",
      "Prob(Omnibus):                  0.000   Jarque-Bera (JB):             6433.341\n",
      "Skew:                           1.595   Prob(JB):                         0.00\n",
      "Kurtosis:                       5.155   Cond. No.                     3.49e+03\n",
      "==============================================================================\n",
      "\n",
      "Warnings:\n",
      "[1] Standard Errors assume that the covariance matrix of the errors is correctly specified.\n",
      "[2] The condition number is large, 3.49e+03. This might indicate that there are\n",
      "strong multicollinearity or other numerical problems.\n"
     ]
    }
   ],
   "source": [
    "results = sm.OLS(y_train, X_train).fit()\n",
    "print(results.summary())"
   ]
  },
  {
   "cell_type": "markdown",
   "metadata": {},
   "source": [
    "We can see that a non-trivial amount of variance (40%) is explained by our model. This isn't overwhelming, to say the least, but we also learned that the majority of our features have some bearing on average runs as well. It seems that being able to bat with your left hand (or both hands) is associated with a significant increase in runs. "
   ]
  },
  {
   "cell_type": "markdown",
   "metadata": {},
   "source": [
    "#### Generating predictions\n",
    "Remember the 20% of data we held back for testing purposes. Now we get to use it! We can generate predictions on our test data and score the results:"
   ]
  },
  {
   "cell_type": "code",
   "execution_count": 73,
   "metadata": {},
   "outputs": [],
   "source": [
    "preds = results.predict(X_test)"
   ]
  },
  {
   "cell_type": "markdown",
   "metadata": {},
   "source": [
    "We can evaluate our model's performance by calculating the Mean Absolute Error (MAE) using `sci-kit learn`:"
   ]
  },
  {
   "cell_type": "code",
   "execution_count": 74,
   "metadata": {},
   "outputs": [
    {
     "data": {
      "text/plain": [
       "14.787763543688797"
      ]
     },
     "execution_count": 74,
     "metadata": {},
     "output_type": "execute_result"
    }
   ],
   "source": [
    "mean_absolute_error(y_test, preds)"
   ]
  },
  {
   "cell_type": "markdown",
   "metadata": {},
   "source": [
    "Or we can calculate it ourself if we'd like:"
   ]
  },
  {
   "cell_type": "code",
   "execution_count": 75,
   "metadata": {},
   "outputs": [
    {
     "data": {
      "text/plain": [
       "14.787763543688843"
      ]
     },
     "execution_count": 75,
     "metadata": {},
     "output_type": "execute_result"
    }
   ],
   "source": [
    "sum(abs(preds - y_test))/len(y_test)"
   ]
  },
  {
   "cell_type": "markdown",
   "metadata": {},
   "source": [
    "### Classification\n",
    "To perform classification, we need to convert runs, which is a continuous variable, into a categorical or dichotomous variable. To do this, we want to categorize a certain number of runs as _good_ and anything below that as _bad_.\n",
    "\n",
    "We'll use the median runs as a cutoff point. Anything above the median should be considered _good_ (or a `1`) and anything below _bad_ (a `0`). This way we can use classification algorithms to determine whether we expect a given player, based on his stats, to be a good or bad scorer."
   ]
  },
  {
   "cell_type": "code",
   "execution_count": 76,
   "metadata": {},
   "outputs": [],
   "source": [
    "def above_avg(runs, median):\n",
    "    if runs > median:\n",
    "        return 1\n",
    "    else:\n",
    "        return 0\n",
    "\n",
    "df['R_'] = df['R'].apply(lambda x: above_avg(x, total_median_runs))"
   ]
  },
  {
   "cell_type": "markdown",
   "metadata": {},
   "source": [
    "Note that we have to swap our y variable for this new binary variable called `R_`:"
   ]
  },
  {
   "cell_type": "code",
   "execution_count": 77,
   "metadata": {},
   "outputs": [],
   "source": [
    "X = df[['birthMonth','weight','height','bats_B','bats_L','bats_R','throws_L','throws_R']]\n",
    "y = df['R_']\n",
    "\n",
    "X_train, X_test, y_train, y_test = train_test_split(X, y, test_size=0.2)"
   ]
  },
  {
   "cell_type": "markdown",
   "metadata": {},
   "source": [
    "#### Naive Bayes\n",
    "Now we can begin running classifiers on this data. We can start with Naive Bayes:"
   ]
  },
  {
   "cell_type": "code",
   "execution_count": 78,
   "metadata": {},
   "outputs": [
    {
     "name": "stdout",
     "output_type": "stream",
     "text": [
      "Accuracy: 0.574\n",
      "Precision: 0.574\n",
      "Recall: 0.512\n",
      "0.005 seconds\n"
     ]
    }
   ],
   "source": [
    "nb = MultinomialNB()\n",
    "start_time = time.time()\n",
    "nb.fit(X_train, y_train)\n",
    "y_pred = nb.predict(X_test)\n",
    "end_time = time.time()\n",
    "acc = accuracy_score(y_test, y_pred)\n",
    "pre = precision_score(y_test, y_pred)\n",
    "rec = recall_score(y_test, y_pred)\n",
    "print('Accuracy: {}'.format(round(acc, 3)))\n",
    "print('Precision: {}'.format(round(pre, 3)))\n",
    "print('Recall: {}'.format(round(rec, 3)))\n",
    "print('{} seconds'.format(round(end_time - start_time, 3)))"
   ]
  },
  {
   "cell_type": "markdown",
   "metadata": {},
   "source": [
    "#### Logistic Regression"
   ]
  },
  {
   "cell_type": "code",
   "execution_count": 259,
   "metadata": {},
   "outputs": [
    {
     "name": "stdout",
     "output_type": "stream",
     "text": [
      "Accuracy: 0.626\n",
      "Precision: 0.642\n",
      "Recall: 0.582\n",
      "0.045 seconds\n"
     ]
    }
   ],
   "source": [
    "logreg = LogisticRegression()\n",
    "start_time = time.time()\n",
    "logreg.fit(X_train, y_train)\n",
    "y_pred = logreg.predict(X_test)\n",
    "end_time = time.time()\n",
    "acc = accuracy_score(y_test, y_pred)\n",
    "pre = precision_score(y_test, y_pred)\n",
    "rec = recall_score(y_test, y_pred)\n",
    "print('Accuracy: {}'.format(round(acc, 3)))\n",
    "print('Precision: {}'.format(round(pre, 3)))\n",
    "print('Recall: {}'.format(round(rec, 3)))\n",
    "print('{} seconds'.format(round(end_time - start_time, 3)))"
   ]
  },
  {
   "cell_type": "markdown",
   "metadata": {},
   "source": [
    "#### Support Vector Machine (SVM)"
   ]
  },
  {
   "cell_type": "code",
   "execution_count": 79,
   "metadata": {},
   "outputs": [
    {
     "name": "stdout",
     "output_type": "stream",
     "text": [
      "Accuracy: 0.51\n",
      "Precision: 0.0\n",
      "Recall: 0.0\n",
      "0.488 seconds\n"
     ]
    },
    {
     "name": "stderr",
     "output_type": "stream",
     "text": [
      "/Users/brandon/anaconda/envs/ddl/lib/python3.7/site-packages/sklearn/metrics/classification.py:1135: UndefinedMetricWarning: Precision is ill-defined and being set to 0.0 due to no predicted samples.\n",
      "  'precision', 'predicted', average, warn_for)\n"
     ]
    }
   ],
   "source": [
    "svmclf = LinearSVC()\n",
    "start_time = time.time()\n",
    "svmclf.fit(X_train, y_train)\n",
    "y_pred = svmclf.predict(X_test)\n",
    "end_time = time.time()\n",
    "acc = accuracy_score(y_test, y_pred)\n",
    "pre = precision_score(y_test, y_pred)\n",
    "rec = recall_score(y_test, y_pred)\n",
    "print('Accuracy: {}'.format(round(acc, 3)))\n",
    "print('Precision: {}'.format(round(pre, 3)))\n",
    "print('Recall: {}'.format(round(rec, 3)))\n",
    "print('{} seconds'.format(round(end_time - start_time, 3)))"
   ]
  },
  {
   "cell_type": "markdown",
   "metadata": {},
   "source": [
    "#### Random Forest"
   ]
  },
  {
   "cell_type": "code",
   "execution_count": 80,
   "metadata": {},
   "outputs": [
    {
     "name": "stdout",
     "output_type": "stream",
     "text": [
      "Accuracy: 0.553\n",
      "Precision: 0.542\n",
      "Recall: 0.56\n",
      "0.79 seconds\n"
     ]
    }
   ],
   "source": [
    "rfclf = RandomForestClassifier(n_estimators=100)\n",
    "start_time = time.time()\n",
    "rfclf.fit(X_train, y_train)\n",
    "y_pred = rfclf.predict(X_test)\n",
    "end_time = time.time()\n",
    "acc = accuracy_score(y_test, y_pred)\n",
    "pre = precision_score(y_test, y_pred)\n",
    "rec = recall_score(y_test, y_pred)\n",
    "print('Accuracy: {}'.format(round(acc, 3)))\n",
    "print('Precision: {}'.format(round(pre, 3)))\n",
    "print('Recall: {}'.format(round(rec, 3)))\n",
    "print('{} seconds'.format(round(end_time - start_time, 3)))"
   ]
  },
  {
   "cell_type": "markdown",
   "metadata": {},
   "source": [
    "One of the benefits of random forests is that we can determine the relative importance of each feature:"
   ]
  },
  {
   "cell_type": "code",
   "execution_count": 81,
   "metadata": {},
   "outputs": [
    {
     "data": {
      "text/html": [
       "<div>\n",
       "<style scoped>\n",
       "    .dataframe tbody tr th:only-of-type {\n",
       "        vertical-align: middle;\n",
       "    }\n",
       "\n",
       "    .dataframe tbody tr th {\n",
       "        vertical-align: top;\n",
       "    }\n",
       "\n",
       "    .dataframe thead th {\n",
       "        text-align: right;\n",
       "    }\n",
       "</style>\n",
       "<table border=\"1\" class=\"dataframe\">\n",
       "  <thead>\n",
       "    <tr style=\"text-align: right;\">\n",
       "      <th></th>\n",
       "      <th>feature</th>\n",
       "      <th>importance</th>\n",
       "    </tr>\n",
       "  </thead>\n",
       "  <tbody>\n",
       "    <tr>\n",
       "      <th>1</th>\n",
       "      <td>weight</td>\n",
       "      <td>0.479137</td>\n",
       "    </tr>\n",
       "    <tr>\n",
       "      <th>0</th>\n",
       "      <td>birthMonth</td>\n",
       "      <td>0.256280</td>\n",
       "    </tr>\n",
       "    <tr>\n",
       "      <th>2</th>\n",
       "      <td>height</td>\n",
       "      <td>0.195891</td>\n",
       "    </tr>\n",
       "    <tr>\n",
       "      <th>5</th>\n",
       "      <td>bats_R</td>\n",
       "      <td>0.019234</td>\n",
       "    </tr>\n",
       "    <tr>\n",
       "      <th>7</th>\n",
       "      <td>throws_R</td>\n",
       "      <td>0.013920</td>\n",
       "    </tr>\n",
       "    <tr>\n",
       "      <th>6</th>\n",
       "      <td>throws_L</td>\n",
       "      <td>0.013601</td>\n",
       "    </tr>\n",
       "    <tr>\n",
       "      <th>4</th>\n",
       "      <td>bats_L</td>\n",
       "      <td>0.013293</td>\n",
       "    </tr>\n",
       "    <tr>\n",
       "      <th>3</th>\n",
       "      <td>bats_B</td>\n",
       "      <td>0.008642</td>\n",
       "    </tr>\n",
       "  </tbody>\n",
       "</table>\n",
       "</div>"
      ],
      "text/plain": [
       "      feature  importance\n",
       "1      weight    0.479137\n",
       "0  birthMonth    0.256280\n",
       "2      height    0.195891\n",
       "5      bats_R    0.019234\n",
       "7    throws_R    0.013920\n",
       "6    throws_L    0.013601\n",
       "4      bats_L    0.013293\n",
       "3      bats_B    0.008642"
      ]
     },
     "execution_count": 81,
     "metadata": {},
     "output_type": "execute_result"
    }
   ],
   "source": [
    "features = [col for col in X_train]\n",
    "\n",
    "feature_imp = pd.DataFrame({'feature':features, 'importance':rfclf.feature_importances_}) \\\n",
    "                .sort_values(by='importance', ascending = False)\n",
    "feature_imp.head(10)"
   ]
  }
 ],
 "metadata": {
  "kernelspec": {
   "display_name": "Python 3",
   "language": "python",
   "name": "python3"
  },
  "language_info": {
   "codemirror_mode": {
    "name": "ipython",
    "version": 3
   },
   "file_extension": ".py",
   "mimetype": "text/x-python",
   "name": "python",
   "nbconvert_exporter": "python",
   "pygments_lexer": "ipython3",
   "version": "3.7.0"
  }
 },
 "nbformat": 4,
 "nbformat_minor": 2
}
