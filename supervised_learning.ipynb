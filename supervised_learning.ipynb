{
 "cells": [
  {
   "cell_type": "markdown",
   "metadata": {},
   "source": [
    "# Supervised Learning\n",
    "This notebook demonstrates a variety of supervised learning approaches--from simple linear regression to random forests.\n",
    "\n",
    "If you are interested in learning from data, specifically labelled data, then this notebook will help guide you through learning from data with Python. We'll use some key Python statistics and machine learning libaries:\n",
    "\n",
    "* `sci-kit learn`\n",
    "* `statsmodels`\n",
    "\n",
    "We'll use basic information about baseball players such as height, weight, and handedness to try to predict average runs scored per season. This could be used in player recruiting models (e.g. \"moneyball\"). \n",
    "\n",
    "The data we will use comes from [Sean Lahman](http://www.seanlahman.com/baseball-archive/statistics/). He has provided a [data dictionary](http://www.seanlahman.com/files/database/readme2017.txt) as well, which is critical for understanding the data sources.\n",
    "\n",
    "Let's get started by importing some packages we'll need:"
   ]
  },
  {
   "cell_type": "code",
   "execution_count": 2,
   "metadata": {},
   "outputs": [],
   "source": [
    "import numpy as np\n",
    "import pandas as pd\n",
    "import time\n",
    "import matplotlib.pyplot as plt\n",
    "\n",
    "import statsmodels.api as sm\n",
    "import statsmodels.formula.api as smf\n",
    "\n",
    "from sklearn.preprocessing import MinMaxScaler\n",
    "from sklearn.cross_validation import train_test_split\n",
    "from sklearn.naive_bayes import MultinomialNB\n",
    "from sklearn.linear_model import LinearRegression, LogisticRegression\n",
    "from sklearn.svm import LinearSVC, LinearSVR\n",
    "from sklearn.ensemble import RandomForestClassifier, RandomForestRegressor\n",
    "from sklearn.metrics import mean_squared_error, mean_absolute_error, accuracy_score, precision_score, recall_score\n",
    "%matplotlib inline"
   ]
  },
  {
   "cell_type": "markdown",
   "metadata": {},
   "source": [
    "### Loading our data"
   ]
  },
  {
   "cell_type": "markdown",
   "metadata": {},
   "source": [
    "Next, let's load the Lahman players data and batting data. Note that these are two separate `.csv` files. The first we'll load as a dataframe called `players` and the second as a dataframe called `batting`. "
   ]
  },
  {
   "cell_type": "code",
   "execution_count": 3,
   "metadata": {},
   "outputs": [],
   "source": [
    "players = pd.read_csv('data/People.csv')\n",
    "batting = pd.read_csv('data/Batting.csv')"
   ]
  },
  {
   "cell_type": "code",
   "execution_count": 4,
   "metadata": {},
   "outputs": [
    {
     "name": "stdout",
     "output_type": "stream",
     "text": [
      "There are 19370 players in the dataset.\n",
      "There are 104324 batting records in the dataset.\n"
     ]
    }
   ],
   "source": [
    "print(\"There are {0} players in the dataset.\".format(players.shape[0]))\n",
    "print(\"There are {0} batting records in the dataset.\".format(batting.shape[0]))"
   ]
  },
  {
   "cell_type": "markdown",
   "metadata": {},
   "source": [
    "Note that there are far more batting records than there are players. That is because each batting record corresponds to a specific player _in a specific year_. We can handle this by calculating the average runs per season per player. This will give us a sense as to how the player generally does overall, instead of in any specific year."
   ]
  },
  {
   "cell_type": "code",
   "execution_count": 5,
   "metadata": {},
   "outputs": [],
   "source": [
    "avg_runs = pd.DataFrame(batting.groupby(['playerID']).R.mean())"
   ]
  },
  {
   "cell_type": "markdown",
   "metadata": {},
   "source": [
    "Let's check on a player we recognize. I know that `harperbr03` is the `playerID` for Bryce Harper of the Washington Nationals. Let's take a look at his average runs (per season):"
   ]
  },
  {
   "cell_type": "code",
   "execution_count": 6,
   "metadata": {},
   "outputs": [
    {
     "data": {
      "text/plain": [
       "R    84.5\n",
       "Name: harpebr03, dtype: float64"
      ]
     },
     "execution_count": 6,
     "metadata": {},
     "output_type": "execute_result"
    }
   ],
   "source": [
    "avg_runs.loc['harpebr03']"
   ]
  },
  {
   "cell_type": "markdown",
   "metadata": {},
   "source": [
    "### Merging player data with batting data\n",
    "Now, let's join the two datasets. We want to know, for each player, what were his average runs per season as well as his vital stats. So let's do a left join:"
   ]
  },
  {
   "cell_type": "code",
   "execution_count": 7,
   "metadata": {},
   "outputs": [],
   "source": [
    "df = players.set_index('playerID').join(avg_runs, how='left')"
   ]
  },
  {
   "cell_type": "markdown",
   "metadata": {},
   "source": [
    "Let's focus on just players who actually have scored runs:"
   ]
  },
  {
   "cell_type": "code",
   "execution_count": 8,
   "metadata": {},
   "outputs": [],
   "source": [
    "df = df[df['R'] > 0]"
   ]
  },
  {
   "cell_type": "code",
   "execution_count": 9,
   "metadata": {},
   "outputs": [
    {
     "name": "stdout",
     "output_type": "stream",
     "text": [
      "There are 13596 players who scored runs.\n"
     ]
    }
   ],
   "source": [
    "print(\"There are {0} players who scored runs.\".format(df.shape[0]))"
   ]
  },
  {
   "cell_type": "markdown",
   "metadata": {},
   "source": [
    "### Generating dummy variables\n",
    "We can't just feed algorithms categorical information such as handedness. How will our model understand the difference between \"left hand\" and \"right hand\"? To get around this we can create dummy variables.\n",
    "\n",
    "Dummy variables take each of the categories and convert it into its own column with binary values. So a right handed player would have values `1` for the `right_handed` column and `0` for the `left_handed` column. That's something we can work with! So, let's generate dummy variables for whether the player bats and throws righthanded, lefthanded, or both."
   ]
  },
  {
   "cell_type": "code",
   "execution_count": 10,
   "metadata": {},
   "outputs": [],
   "source": [
    "bats_dummies = pd.get_dummies(df.bats, prefix='bats')\n",
    "throws_dummies = pd.get_dummies(df.throws, prefix='throws')"
   ]
  },
  {
   "cell_type": "markdown",
   "metadata": {},
   "source": [
    "Now we need to add these dummy variable columns to our dataframe:"
   ]
  },
  {
   "cell_type": "code",
   "execution_count": 11,
   "metadata": {},
   "outputs": [],
   "source": [
    "df = df.join(bats_dummies)\n",
    "df = df.join(throws_dummies)"
   ]
  },
  {
   "cell_type": "markdown",
   "metadata": {},
   "source": [
    "### Assessing average runs\n",
    "Before we get started learning from data, let's try to understand a typical player's performance. We can use a kernel density estimation plot on average runs to get a sense for the distribution of runs we can expect from players:"
   ]
  },
  {
   "cell_type": "code",
   "execution_count": 12,
   "metadata": {
    "scrolled": true
   },
   "outputs": [
    {
     "data": {
      "text/plain": [
       "(0, 193.91677018633538)"
      ]
     },
     "execution_count": 12,
     "metadata": {},
     "output_type": "execute_result"
    },
    {
     "data": {
      "image/png": "[encoded data removed]",
      "text/plain": [
       "<Figure size 432x288 with 1 Axes>"
      ]
     },
     "metadata": {},
     "output_type": "display_data"
    }
   ],
   "source": [
    "plot = df['R'].plot(kind='kde')\n",
    "plot.set_xlim(0,)"
   ]
  },
  {
   "cell_type": "markdown",
   "metadata": {},
   "source": [
    "We can see that this looks like a log-normal distribution. This makes sense and is actually the case for many natural phenomenon. Consider height, for example, there is a natural limit to the height a person can grow to so density at its higher bounds is very small. \n",
    "\n",
    "We can check this by looking at the distribution of `log(runs)`."
   ]
  },
  {
   "cell_type": "code",
   "execution_count": 13,
   "metadata": {},
   "outputs": [],
   "source": [
    "df['R_log'] = np.log(df.R)"
   ]
  },
  {
   "cell_type": "code",
   "execution_count": 14,
   "metadata": {},
   "outputs": [
    {
     "data": {
      "text/plain": [
       "(0, 9.557392426547839)"
      ]
     },
     "execution_count": 14,
     "metadata": {},
     "output_type": "execute_result"
    },
    {
     "data": {
      "image/png": "[encoded data removed]",
      "text/plain": [
       "<Figure size 432x288 with 1 Axes>"
      ]
     },
     "metadata": {},
     "output_type": "display_data"
    }
   ],
   "source": [
    "plot = df['R_log'].plot(kind='kde')\n",
    "plot.set_xlim(0,)"
   ]
  },
  {
   "cell_type": "markdown",
   "metadata": {},
   "source": [
    "It does look more \"normal\" (though not perfectly so). I most cases, we would want to identify the functional form of the distribution and convert it to a normal (or gaussian) distribution prior to learning from it. However, that complicates interpretation of our data so we will continue using the non-transformed variables."
   ]
  },
  {
   "cell_type": "code",
   "execution_count": 15,
   "metadata": {},
   "outputs": [
    {
     "name": "stdout",
     "output_type": "stream",
     "text": [
      "On average, players we're considering scored 6.0 runs per season.\n"
     ]
    }
   ],
   "source": [
    "total_median_runs = df['R'].median()\n",
    "print(\"On average, players we're considering scored {0} runs per season.\".format(round(total_median_runs,2)))"
   ]
  },
  {
   "cell_type": "markdown",
   "metadata": {},
   "source": [
    "### Regression"
   ]
  },
  {
   "cell_type": "markdown",
   "metadata": {},
   "source": [
    "Let's focus just on the features we think will be predictive of runs:\n",
    "\n",
    "- birth month\n",
    "- weight\n",
    "- height\n",
    "- batting hand\n",
    "- throwing hand\n",
    "\n",
    "We can subset our data to reflect these features of interest. We can also set our X (explanatory variable) and y (response variables)."
   ]
  },
  {
   "cell_type": "code",
   "execution_count": 16,
   "metadata": {},
   "outputs": [],
   "source": [
    "df = df.reset_index()\n",
    "df = df[['birthMonth','weight','height','bats_B','bats_L','bats_R','throws_L','throws_R', 'R']].dropna()\n",
    "X = df[['birthMonth','weight','height','bats_B','bats_L','bats_R','throws_L','throws_R']]\n",
    "y = df['R']"
   ]
  },
  {
   "cell_type": "markdown",
   "metadata": {},
   "source": [
    "Now let's split our data into training and test sets. We will specify that 20% of that data should be held back for testing purposes:"
   ]
  },
  {
   "cell_type": "code",
   "execution_count": 17,
   "metadata": {},
   "outputs": [],
   "source": [
    "X_train, X_test, y_train, y_test = train_test_split(X, y, test_size=0.2)"
   ]
  },
  {
   "cell_type": "markdown",
   "metadata": {},
   "source": [
    "Next, we can fit the ordinary least squares regression model to our data:"
   ]
  },
  {
   "cell_type": "code",
   "execution_count": 18,
   "metadata": {},
   "outputs": [
    {
     "name": "stdout",
     "output_type": "stream",
     "text": [
      "                            OLS Regression Results                            \n",
      "==============================================================================\n",
      "Dep. Variable:                      R   R-squared:                       0.398\n",
      "Model:                            OLS   Adj. R-squared:                  0.398\n",
      "Method:                 Least Squares   F-statistic:                     861.9\n",
      "Date:                Tue, 07 Aug 2018   Prob (F-statistic):               0.00\n",
      "Time:                        12:35:22   Log-Likelihood:                -45507.\n",
      "No. Observations:               10420   AIC:                         9.103e+04\n",
      "Df Residuals:                   10412   BIC:                         9.109e+04\n",
      "Df Model:                           8                                         \n",
      "Covariance Type:            nonrobust                                         \n",
      "==============================================================================\n",
      "                 coef    std err          t      P>|t|      [0.025      0.975]\n",
      "------------------------------------------------------------------------------\n",
      "birthMonth     0.0661      0.054      1.222      0.222      -0.040       0.172\n",
      "weight        -0.0194      0.011     -1.751      0.080      -0.041       0.002\n",
      "height         0.1381      0.034      4.050      0.000       0.071       0.205\n",
      "bats_B        12.4639      1.662      7.500      0.000       9.206      15.722\n",
      "bats_L        13.5614      1.575      8.610      0.000      10.474      16.649\n",
      "bats_R         6.3940      1.544      4.141      0.000       3.367       9.421\n",
      "throws_L      -5.8218      1.744     -3.338      0.001      -9.240      -2.403\n",
      "throws_R       0.8867      1.675      0.529      0.597      -2.397       4.170\n",
      "==============================================================================\n",
      "Omnibus:                     2988.970   Durbin-Watson:                   2.004\n",
      "Prob(Omnibus):                  0.000   Jarque-Bera (JB):             7012.318\n",
      "Skew:                           1.629   Prob(JB):                         0.00\n",
      "Kurtosis:                       5.354   Cond. No.                     3.47e+03\n",
      "==============================================================================\n",
      "\n",
      "Warnings:\n",
      "[1] Standard Errors assume that the covariance matrix of the errors is correctly specified.\n",
      "[2] The condition number is large, 3.47e+03. This might indicate that there are\n",
      "strong multicollinearity or other numerical problems.\n"
     ]
    }
   ],
   "source": [
    "results = sm.OLS(y_train, X_train).fit()\n",
    "print(results.summary())"
   ]
  },
  {
   "cell_type": "markdown",
   "metadata": {},
   "source": [
    "We can see that a non-trivial amount of variance (40%) is explained by our model. This isn't overwhelming, to say the least, but we also learned that the majority of our features have some bearing on average runs as well. It seems that being able to bat with your left hand (or both hands) is associated with a significant increase in runs. "
   ]
  },
  {
   "cell_type": "markdown",
   "metadata": {},
   "source": [
    "#### Generating predictions\n",
    "Remember the 20% of data we held back for testing purposes. Now we get to use it! We can generate predictions on our test data and score the results:"
   ]
  },
  {
   "cell_type": "code",
   "execution_count": 19,
   "metadata": {},
   "outputs": [],
   "source": [
    "preds = results.predict(X_test)"
   ]
  },
  {
   "cell_type": "markdown",
   "metadata": {},
   "source": [
    "We can evaluate our model's performance by calculating the Mean Absolute Error (MAE) using `sci-kit learn`:"
   ]
  },
  {
   "cell_type": "code",
   "execution_count": 20,
   "metadata": {},
   "outputs": [
    {
     "data": {
      "text/plain": [
       "14.636058993229732"
      ]
     },
     "execution_count": 20,
     "metadata": {},
     "output_type": "execute_result"
    }
   ],
   "source": [
    "mean_absolute_error(y_test, preds)"
   ]
  },
  {
   "cell_type": "markdown",
   "metadata": {},
   "source": [
    "Or we can calculate it ourself if we'd like:"
   ]
  },
  {
   "cell_type": "code",
   "execution_count": 21,
   "metadata": {},
   "outputs": [
    {
     "data": {
      "text/plain": [
       "14.636058993229723"
      ]
     },
     "execution_count": 21,
     "metadata": {},
     "output_type": "execute_result"
    }
   ],
   "source": [
    "sum(abs(preds - y_test))/len(y_test)"
   ]
  },
  {
   "cell_type": "markdown",
   "metadata": {},
   "source": [
    "### Classification\n",
    "To perform classification, we need to convert runs, which is a continuous variable, into a categorical or dichotomous variable. To do this, we want to categorize a certain number of runs as _good_ and anything below that as _bad_.\n",
    "\n",
    "We'll use the median runs as a cutoff point. Anything above the median should be considered _good_ (or a `1`) and anything below _bad_ (a `0`). This way we can use classification algorithms to determine whether we expect a given player, based on his stats, to be a good or bad scorer."
   ]
  },
  {
   "cell_type": "code",
   "execution_count": 22,
   "metadata": {},
   "outputs": [],
   "source": [
    "def above_avg(runs, median):\n",
    "    if runs > median:\n",
    "        return 1\n",
    "    else:\n",
    "        return 0\n",
    "\n",
    "df['R_'] = df['R'].apply(lambda x: above_avg(x, total_median_runs))"
   ]
  },
  {
   "cell_type": "markdown",
   "metadata": {},
   "source": [
    "Note that we have to swap our y variable for this new binary variable called `R_`:"
   ]
  },
  {
   "cell_type": "code",
   "execution_count": 23,
   "metadata": {},
   "outputs": [],
   "source": [
    "X = df[['birthMonth','weight','height','bats_B','bats_L','bats_R','throws_L','throws_R']]\n",
    "y = df['R_']\n",
    "\n",
    "X_train, X_test, y_train, y_test = train_test_split(X, y, test_size=0.2)"
   ]
  },
  {
   "cell_type": "markdown",
   "metadata": {},
   "source": [
    "#### Naive Bayes\n",
    "Now we can begin running classifiers on this data. We can start with Naive Bayes:"
   ]
  },
  {
   "cell_type": "code",
   "execution_count": 24,
   "metadata": {},
   "outputs": [
    {
     "name": "stdout",
     "output_type": "stream",
     "text": [
      "Accuracy: 0.551\n",
      "Precision: 0.585\n",
      "Recall: 0.473\n",
      "0.004 seconds\n"
     ]
    }
   ],
   "source": [
    "nb = MultinomialNB()\n",
    "start_time = time.time()\n",
    "nb.fit(X_train, y_train)\n",
    "y_pred = nb.predict(X_test)\n",
    "end_time = time.time()\n",
    "acc = accuracy_score(y_test, y_pred)\n",
    "pre = precision_score(y_test, y_pred)\n",
    "rec = recall_score(y_test, y_pred)\n",
    "print('Accuracy: {}'.format(round(acc, 3)))\n",
    "print('Precision: {}'.format(round(pre, 3)))\n",
    "print('Recall: {}'.format(round(rec, 3)))\n",
    "print('{} seconds'.format(round(end_time - start_time, 3)))"
   ]
  },
  {
   "cell_type": "markdown",
   "metadata": {},
   "source": [
    "We can compare accuracy, precision, recall, and time to run for each of the algorithms below:"
   ]
  },
  {
   "cell_type": "markdown",
   "metadata": {},
   "source": [
    "#### Logistic Regression"
   ]
  },
  {
   "cell_type": "code",
   "execution_count": 25,
   "metadata": {},
   "outputs": [
    {
     "name": "stdout",
     "output_type": "stream",
     "text": [
      "Accuracy: 0.591\n",
      "Precision: 0.632\n",
      "Recall: 0.517\n",
      "0.04 seconds\n"
     ]
    }
   ],
   "source": [
    "logreg = LogisticRegression()\n",
    "start_time = time.time()\n",
    "logreg.fit(X_train, y_train)\n",
    "y_pred = logreg.predict(X_test)\n",
    "end_time = time.time()\n",
    "acc = accuracy_score(y_test, y_pred)\n",
    "pre = precision_score(y_test, y_pred)\n",
    "rec = recall_score(y_test, y_pred)\n",
    "print('Accuracy: {}'.format(round(acc, 3)))\n",
    "print('Precision: {}'.format(round(pre, 3)))\n",
    "print('Recall: {}'.format(round(rec, 3)))\n",
    "print('{} seconds'.format(round(end_time - start_time, 3)))"
   ]
  },
  {
   "cell_type": "markdown",
   "metadata": {},
   "source": [
    "#### Support Vector Machine (SVM)"
   ]
  },
  {
   "cell_type": "code",
   "execution_count": 26,
   "metadata": {},
   "outputs": [
    {
     "name": "stdout",
     "output_type": "stream",
     "text": [
      "Accuracy: 0.521\n",
      "Precision: 0.521\n",
      "Recall: 1.0\n",
      "0.489 seconds\n"
     ]
    }
   ],
   "source": [
    "svmclf = LinearSVC()\n",
    "start_time = time.time()\n",
    "svmclf.fit(X_train, y_train)\n",
    "y_pred = svmclf.predict(X_test)\n",
    "end_time = time.time()\n",
    "acc = accuracy_score(y_test, y_pred)\n",
    "pre = precision_score(y_test, y_pred)\n",
    "rec = recall_score(y_test, y_pred)\n",
    "print('Accuracy: {}'.format(round(acc, 3)))\n",
    "print('Precision: {}'.format(round(pre, 3)))\n",
    "print('Recall: {}'.format(round(rec, 3)))\n",
    "print('{} seconds'.format(round(end_time - start_time, 3)))"
   ]
  },
  {
   "cell_type": "markdown",
   "metadata": {},
   "source": [
    "We can see that SVM did not predict any positive classes. In other words, no players in the test set were predicted to be above the median. This isn't a terrible prediction given what we know about our data; it is log-normal but we are not transforming it. Also, based on our regression, less than half the variance is explained by the features we've chosen. A conservative model might not be willing to predict that any players are above median!"
   ]
  },
  {
   "cell_type": "markdown",
   "metadata": {},
   "source": [
    "#### Random Forest"
   ]
  },
  {
   "cell_type": "code",
   "execution_count": 27,
   "metadata": {},
   "outputs": [
    {
     "name": "stdout",
     "output_type": "stream",
     "text": [
      "Accuracy: 0.549\n",
      "Precision: 0.571\n",
      "Recall: 0.537\n",
      "0.789 seconds\n"
     ]
    }
   ],
   "source": [
    "rfclf = RandomForestClassifier(n_estimators=100)\n",
    "start_time = time.time()\n",
    "rfclf.fit(X_train, y_train)\n",
    "y_pred = rfclf.predict(X_test)\n",
    "end_time = time.time()\n",
    "acc = accuracy_score(y_test, y_pred)\n",
    "pre = precision_score(y_test, y_pred)\n",
    "rec = recall_score(y_test, y_pred)\n",
    "print('Accuracy: {}'.format(round(acc, 3)))\n",
    "print('Precision: {}'.format(round(pre, 3)))\n",
    "print('Recall: {}'.format(round(rec, 3)))\n",
    "print('{} seconds'.format(round(end_time - start_time, 3)))"
   ]
  },
  {
   "cell_type": "markdown",
   "metadata": {},
   "source": [
    "One of the benefits of random forests is that we can determine the relative importance of each feature:"
   ]
  },
  {
   "cell_type": "code",
   "execution_count": 28,
   "metadata": {},
   "outputs": [
    {
     "data": {
      "text/html": [
       "<div>\n",
       "<style scoped>\n",
       "    .dataframe tbody tr th:only-of-type {\n",
       "        vertical-align: middle;\n",
       "    }\n",
       "\n",
       "    .dataframe tbody tr th {\n",
       "        vertical-align: top;\n",
       "    }\n",
       "\n",
       "    .dataframe thead th {\n",
       "        text-align: right;\n",
       "    }\n",
       "</style>\n",
       "<table border=\"1\" class=\"dataframe\">\n",
       "  <thead>\n",
       "    <tr style=\"text-align: right;\">\n",
       "      <th></th>\n",
       "      <th>feature</th>\n",
       "      <th>importance</th>\n",
       "    </tr>\n",
       "  </thead>\n",
       "  <tbody>\n",
       "    <tr>\n",
       "      <th>1</th>\n",
       "      <td>weight</td>\n",
       "      <td>0.460055</td>\n",
       "    </tr>\n",
       "    <tr>\n",
       "      <th>0</th>\n",
       "      <td>birthMonth</td>\n",
       "      <td>0.259751</td>\n",
       "    </tr>\n",
       "    <tr>\n",
       "      <th>2</th>\n",
       "      <td>height</td>\n",
       "      <td>0.208208</td>\n",
       "    </tr>\n",
       "    <tr>\n",
       "      <th>5</th>\n",
       "      <td>bats_R</td>\n",
       "      <td>0.019312</td>\n",
       "    </tr>\n",
       "    <tr>\n",
       "      <th>7</th>\n",
       "      <td>throws_R</td>\n",
       "      <td>0.015576</td>\n",
       "    </tr>\n",
       "    <tr>\n",
       "      <th>6</th>\n",
       "      <td>throws_L</td>\n",
       "      <td>0.014530</td>\n",
       "    </tr>\n",
       "    <tr>\n",
       "      <th>4</th>\n",
       "      <td>bats_L</td>\n",
       "      <td>0.013850</td>\n",
       "    </tr>\n",
       "    <tr>\n",
       "      <th>3</th>\n",
       "      <td>bats_B</td>\n",
       "      <td>0.008720</td>\n",
       "    </tr>\n",
       "  </tbody>\n",
       "</table>\n",
       "</div>"
      ],
      "text/plain": [
       "      feature  importance\n",
       "1      weight    0.460055\n",
       "0  birthMonth    0.259751\n",
       "2      height    0.208208\n",
       "5      bats_R    0.019312\n",
       "7    throws_R    0.015576\n",
       "6    throws_L    0.014530\n",
       "4      bats_L    0.013850\n",
       "3      bats_B    0.008720"
      ]
     },
     "execution_count": 28,
     "metadata": {},
     "output_type": "execute_result"
    }
   ],
   "source": [
    "features = [col for col in X_train]\n",
    "\n",
    "feature_imp = pd.DataFrame({'feature':features, 'importance':rfclf.feature_importances_}) \\\n",
    "                .sort_values(by='importance', ascending = False)\n",
    "feature_imp.head(10)"
   ]
  }
 ],
 "metadata": {
  "kernelspec": {
   "display_name": "Python 3",
   "language": "python",
   "name": "python3"
  },
  "language_info": {
   "codemirror_mode": {
    "name": "ipython",
    "version": 3
   },
   "file_extension": ".py",
   "mimetype": "text/x-python",
   "name": "python",
   "nbconvert_exporter": "python",
   "pygments_lexer": "ipython3",
   "version": "3.7.0"
  }
 },
 "nbformat": 4,
 "nbformat_minor": 2
}
