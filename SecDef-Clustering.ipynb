{
 "cells": [
  {
   "cell_type": "code",
   "execution_count": 185,
   "metadata": {},
   "outputs": [
    {
     "name": "stdout",
     "output_type": "stream",
     "text": [
      "[nltk_data] Downloading package stopwords to\n",
      "[nltk_data]     /Users/brandon/nltk_data...\n",
      "[nltk_data]   Package stopwords is already up-to-date!\n"
     ]
    }
   ],
   "source": [
    "import numpy as np\n",
    "import pandas as pd\n",
    "\n",
    "nltk.download('stopwords')\n",
    "from nltk.corpus import stopwords\n",
    "from nltk.stem.snowball import SnowballStemmer\n",
    "\n",
    "from sklearn import feature_extraction\n",
    "from sklearn.preprocessing import MinMaxScaler\n",
    "from sklearn.decomposition import PCA\n",
    "\n",
    "import seaborn as sns\n",
    "import matplotlib.pyplot as plt\n",
    "%matplotlib inline"
   ]
  },
  {
   "cell_type": "code",
   "execution_count": 15,
   "metadata": {},
   "outputs": [],
   "source": [
    "# load nltk's English stopwords as variable called 'stopwords'\n",
    "stopwords = stopwords.words('english')"
   ]
  },
  {
   "cell_type": "code",
   "execution_count": 16,
   "metadata": {},
   "outputs": [
    {
     "name": "stdout",
     "output_type": "stream",
     "text": [
      "['i', 'me', 'my', 'myself', 'we', 'our', 'ours', 'ourselves', 'you', \"you're\"]\n"
     ]
    }
   ],
   "source": [
    "print(stopwords[:10])"
   ]
  },
  {
   "cell_type": "code",
   "execution_count": 17,
   "metadata": {},
   "outputs": [],
   "source": [
    "stemmer = SnowballStemmer(\"english\")"
   ]
  },
  {
   "cell_type": "code",
   "execution_count": 91,
   "metadata": {},
   "outputs": [],
   "source": [
    "# here I define a tokenizer and stemmer which returns the set of stems in the text that it is passed\n",
    "\n",
    "def tokenize_and_stem(text):\n",
    "    # first tokenize by sentence, then by word to ensure that punctuation is caught as it's own token\n",
    "    tokens = [word for sent in nltk.sent_tokenize(text) for word in nltk.word_tokenize(sent)]\n",
    "    filtered_tokens = []\n",
    "    # filter out any tokens not containing letters (e.g., numeric tokens, raw punctuation)\n",
    "    for token in tokens:\n",
    "        if re.search('[a-zA-Z]', token):\n",
    "            if len(token) >= 4:\n",
    "                filtered_tokens.append(token)\n",
    "    stems = [stemmer.stem(t) for t in filtered_tokens]\n",
    "    return stems\n",
    "\n",
    "\n",
    "def tokenize_only(text):\n",
    "    # first tokenize by sentence, then by word to ensure that punctuation is caught as it's own token\n",
    "    tokens = [word.lower() for sent in nltk.sent_tokenize(text) for word in nltk.word_tokenize(sent)]\n",
    "    filtered_tokens = []\n",
    "    # filter out any tokens not containing letters (e.g., numeric tokens, raw punctuation)\n",
    "    for token in tokens:\n",
    "        if re.search('[a-zA-Z]', token):\n",
    "            if len(token) >= 4:\n",
    "                filtered_tokens.append(token)\n",
    "    return filtered_tokens"
   ]
  },
  {
   "cell_type": "code",
   "execution_count": 20,
   "metadata": {},
   "outputs": [],
   "source": [
    "df = pd.read_csv('SecDef_Speeches.csv')"
   ]
  },
  {
   "cell_type": "code",
   "execution_count": 92,
   "metadata": {},
   "outputs": [],
   "source": [
    "totalvocab_stemmed = []\n",
    "totalvocab_tokenized = []\n",
    "\n",
    "for i in df.speech:\n",
    "    allwords_stemmed = tokenize_and_stem(i)\n",
    "    totalvocab_stemmed.extend(allwords_stemmed)\n",
    "\n",
    "    allwords_tokenized = tokenize_only(i)\n",
    "    totalvocab_tokenized.extend(allwords_tokenized)"
   ]
  },
  {
   "cell_type": "code",
   "execution_count": 93,
   "metadata": {},
   "outputs": [
    {
     "name": "stdout",
     "output_type": "stream",
     "text": [
      "There are 302045 items in our vocabulary.\n"
     ]
    }
   ],
   "source": [
    "vocab = pd.DataFrame({'words': totalvocab_tokenized}, index = totalvocab_stemmed)\n",
    "print('There are ' + str(vocab.shape[0]) + ' items in our vocabulary.')"
   ]
  },
  {
   "cell_type": "code",
   "execution_count": 123,
   "metadata": {},
   "outputs": [
    {
     "name": "stdout",
     "output_type": "stream",
     "text": [
      "CPU times: user 11.3 s, sys: 61.6 ms, total: 11.3 s\n",
      "Wall time: 11.3 s\n",
      "(204, 1593)\n"
     ]
    }
   ],
   "source": [
    "from sklearn.feature_extraction.text import TfidfVectorizer\n",
    "\n",
    "#define vectorizer parameters\n",
    "tfidf_vectorizer = TfidfVectorizer(max_df=0.8, max_features=200000,\n",
    "                                 min_df=0.1, stop_words='english',\n",
    "                                 use_idf=True, tokenizer=tokenize_and_stem, ngram_range=(1,3))\n",
    "\n",
    "%time tfidf_matrix = tfidf_vectorizer.fit_transform(df.speech) #fit the vectorizer to speeches\n",
    "\n",
    "print(tfidf_matrix.shape)"
   ]
  },
  {
   "cell_type": "code",
   "execution_count": 124,
   "metadata": {},
   "outputs": [],
   "source": [
    "terms = tfidf_vectorizer.get_feature_names()"
   ]
  },
  {
   "cell_type": "code",
   "execution_count": 125,
   "metadata": {},
   "outputs": [],
   "source": [
    "from sklearn.metrics.pairwise import cosine_similarity\n",
    "dist = 1 - cosine_similarity(tfidf_matrix)"
   ]
  },
  {
   "cell_type": "code",
   "execution_count": 202,
   "metadata": {},
   "outputs": [
    {
     "name": "stdout",
     "output_type": "stream",
     "text": [
      "CPU times: user 8.35 s, sys: 1.6 s, total: 9.95 s\n",
      "Wall time: 2.57 s\n"
     ]
    }
   ],
   "source": [
    "from sklearn.cluster import KMeans\n",
    "\n",
    "num_clusters = 12\n",
    "\n",
    "km = KMeans(n_clusters=num_clusters)\n",
    "\n",
    "%time km.fit(tfidf_matrix)\n",
    "\n",
    "clusters = km.labels_.tolist()"
   ]
  },
  {
   "cell_type": "code",
   "execution_count": 203,
   "metadata": {},
   "outputs": [],
   "source": [
    "df['cluster'] = clusters"
   ]
  },
  {
   "cell_type": "code",
   "execution_count": 204,
   "metadata": {},
   "outputs": [
    {
     "data": {
      "text/plain": [
       "cluster\n",
       "0     13\n",
       "1     23\n",
       "2     12\n",
       "3     52\n",
       "4     30\n",
       "5     30\n",
       "6      3\n",
       "7      8\n",
       "8     18\n",
       "9      4\n",
       "10     4\n",
       "11     7\n",
       "Name: cluster, dtype: int64"
      ]
     },
     "execution_count": 204,
     "metadata": {},
     "output_type": "execute_result"
    }
   ],
   "source": [
    "df.groupby('cluster')['cluster'].count()"
   ]
  },
  {
   "cell_type": "code",
   "execution_count": 205,
   "metadata": {},
   "outputs": [],
   "source": [
    "class color:\n",
    "   PURPLE = '\\033[95m'\n",
    "   CYAN = '\\033[96m'\n",
    "   DARKCYAN = '\\033[36m'\n",
    "   BLUE = '\\033[94m'\n",
    "   GREEN = '\\033[92m'\n",
    "   YELLOW = '\\033[93m'\n",
    "   RED = '\\033[91m'\n",
    "   BOLD = '\\033[1m'\n",
    "   UNDERLINE = '\\033[4m'\n",
    "   END = '\\033[0m'"
   ]
  },
  {
   "cell_type": "code",
   "execution_count": 206,
   "metadata": {
    "scrolled": false
   },
   "outputs": [
    {
     "name": "stdout",
     "output_type": "stream",
     "text": [
      "\u001b[1mTop terms per cluster:\u001b[0m\n",
      "\n",
      "\u001b[94m\u001b[1mCluster 0 Words:\u001b[0m\n",
      "\t-innovative\n",
      "\t-technologies\n",
      "\t-companies\n",
      "\t-board\n",
      "\t-things\n",
      "\t-investing\n",
      "\t-america\n",
      "\t-business\n",
      "\t-commercials\n",
      "\t-silicon\n",
      "\n",
      "\u001b[92m\u001b[1mCluster 0 Speech Titles:\n",
      "\u001b[0m\n",
      "\t- Remarks Announcing a New Manufacturing Innovation Institute in Cambridge, Massachusetts\n",
      "\t- Remarks on \"The Path to an Innovative Future for Defense\" (CSIS Third Offset Strategy Conference)\n",
      "\t- Remarks at DARPA's \"Wait, What?\" Future Technology Forum\n",
      "\t- Remarks at the World Economic Forum dinner presenting the Secretary of Defense IDEAS Award to Dr. Wi\n",
      "\t- Remarks Announcing a New Manufacturing Innovation Institute in Silicon Valley\n",
      "\t- Remarks Announcing a DIUx Outpost in Austin, Texas\n",
      "\t- Remarks at Defense One Tech Summit\n",
      "\t- Remarks at the First Meeting of the Defense Innovation Board\n",
      "\t- Remarks to Seattle-area Technology, Business, Community, and Military Leaders\n",
      "\t- Drell Lecture: \"Rewiring the Pentagon: Charting a New Path on Innovation and Cybersecurity\" (Stanfor\n",
      "\n",
      "\n",
      "\n",
      "\u001b[94m\u001b[1mCluster 1 Words:\u001b[0m\n",
      "\t-isil\n",
      "\t-campaigns\n",
      "\t-iraqi\n",
      "\t-coalition\n",
      "\t-syria\n",
      "\t-iraq\n",
      "\t-defeat\n",
      "\t-local\n",
      "\t-partners\n",
      "\t-operating\n",
      "\n",
      "\u001b[92m\u001b[1mCluster 1 Speech Titles:\n",
      "\u001b[0m\n",
      "\t- Remarks on \"Defense at A Time Of Strategic Transition\" (CSIS Sam Nunn National Security Leadership P\n",
      "\t- Counter ISIL Campaign Remarks at the Ecole Militaire, Paris\n",
      "\t- Remarks to the XVIII Airborne Corps On the Counter-ISIL Campaign\n",
      "\t- Opening Remarks at Counter-ISIL Defense Minister Meeting\n",
      "\t- Remarks at the NORAD/NORTHCOM Change of Command\n",
      "\t- Remarks on the \"U.S.-UK Alliance and the Future of the Principled International Order\"\n",
      "\t- Secretary of Defense James Mattis Remarks with Brett McGurk and LTG Townsend\n",
      "\t- Opening Remarks at Counter-ISIL Foreign and Defense Minister Meeting\n",
      "\t- Statement on Counter-ISIL Operations and U.S. Military Strategy in the Middle East before the Senate\n",
      "\t- Statement on the Administration's Strategy and Military Campaign Against ISIL Before the House Armed\n",
      "\n",
      "\n",
      "\n",
      "\u001b[94m\u001b[1mCluster 2 Words:\u001b[0m\n",
      "\t-family\n",
      "\t-service\n",
      "\t-future\n",
      "\t-talented\n",
      "\t-want\n",
      "\t-serve\n",
      "\t-school\n",
      "\t-generation\n",
      "\t-just\n",
      "\t-come\n",
      "\n",
      "\u001b[92m\u001b[1mCluster 2 Speech Titles:\n",
      "\u001b[0m\n",
      "\t- Remarks by Secretary Carter on the Force of the Future\n",
      "\t- Welcoming Ceremony for Senior DoD Leaders\n",
      "\t- Remarks on \"Forging Two New Links to the Force of the Future\"\n",
      "\t- Remarks on \"Building the First Link to the Force of the Future\" (George Washington University)\n",
      "\t- Remarks on \"The Next Two Links to the Force of the Future\"\n",
      "\t- Remarks before Administering the Oath of Office to Secretary of the Army Eric Fanning\n",
      "\t- Remarks before Fireside Chat at the University of Texas\n",
      "\t- Remarks at the Military Child Education Coalition Training Seminar\n",
      "\t- Remarks on Ending the Ban on Transgender Service in the U.S. Military\n",
      "\t- Supporting Military Families for a Stronger Force: The Second Link to the Force of the Future \n",
      "\n",
      "\n",
      "\n",
      "\u001b[94m\u001b[1mCluster 3 Words:\u001b[0m\n",
      "\t-family\n",
      "\t-serve\n",
      "\t-every\n",
      "\t-honor\n",
      "\t-women\n",
      "\t-veterans\n",
      "\t-secretary\n",
      "\t-department\n",
      "\t-service\n",
      "\t-blessed\n",
      "\n",
      "\u001b[92m\u001b[1mCluster 3 Speech Titles:\n",
      "\u001b[0m\n",
      "\t- Medal of Honor Ceremony for Lieutenant Colonel Charles Kettles\n",
      "\t- Remarks to USAFA Upper Class Cadets\n",
      "\t- Remarks at Pentagon Vietnam War Exhibit Opening Ceremony\n",
      "\t- Veterans Day Message\n",
      "\t- John Glenn College of Public Affairs - The Ohio State University (2017 Excellence in Public Service \n",
      "\t- Farewell Message to the Department of Defense From Secretary of Defense Chuck Hagel\n",
      "\t- Portrait Unveiling for Secretary Leon Panetta\n",
      "\t- USO Gala\n",
      "\t- Remarks by Secretary Mattis at Portrait Unveiling in Honor of Former Secretary of Defense Ashton B. \n",
      "\t- Remarks at the 25th Anniversary of the Cooperative Threat Reduction\n",
      "\n",
      "\n",
      "\n",
      "\u001b[94m\u001b[1mCluster 4 Words:\u001b[0m\n",
      "\t-budget\n",
      "\t-nuclear\n",
      "\t-investing\n",
      "\t-capable\n",
      "\t-future\n",
      "\t-billions\n",
      "\t-operating\n",
      "\t-need\n",
      "\t-space\n",
      "\t-region\n",
      "\n",
      "\u001b[92m\u001b[1mCluster 4 Speech Titles:\n",
      "\u001b[0m\n",
      "\t- Statement on the Nuclear Enterprise Review & Reforms\n",
      "\t- Submitted Statement -- Senate Appropriations Committee-Defense (FY 2017 Budget Request)\n",
      "\t- Remarks at Armed Forces Farewell Parade for President Obama\n",
      "\t- Opening Statement -- Senate Armed Services Committee (FY 2017 Budget Request)\n",
      "\t- Opening Statement -- House Appropriations Committee-Defense (FY 2017 Budget Request)\n",
      "\t- Statement on the Impacts of the Joint Comprehensive Plan of Action before the Senate Armed Services \n",
      "\t- Secretary of Defense Ash Carter Dinner Remarks UN Peacekeeping Defense Ministerial\n",
      "\t- Remarks at Chief of Naval Operations Change of Responsibility\n",
      "\t- Remarks Previewing the FY 2017 Defense Budget\n",
      "\t- Submitted Statement -- House Armed Services Committee (FY 2017 Budget Request)\n",
      "\n",
      "\n",
      "\n",
      "\u001b[94m\u001b[1mCluster 5 Words:\u001b[0m\n",
      "\t-family\n",
      "\t-general\n",
      "\t-president\n",
      "\t-honor\n",
      "\t-command\n",
      "\t-lives\n",
      "\t-serve\n",
      "\t-service\n",
      "\t-marines\n",
      "\t-loved\n",
      "\n",
      "\u001b[92m\u001b[1mCluster 5 Speech Titles:\n",
      "\u001b[0m\n",
      "\t- Remarks at SOUTHCOM Change of Command\n",
      "\t- Remarks at the Opening Ceremony of the 2015 Warrior Games\n",
      "\t- September 11th Memorial Observance\n",
      "\t- U.S. Military Academy Graduation and Commissioning\n",
      "\t- Independence Day Message\n",
      "\t- U.S. Special Operations Command Change of Command\n",
      "\t- Remarks at the Fisher House Foundation's 25th Anniversary Gala\n",
      "\t- Remarks by Secretary Mattis at Swearing-In Ceremony for Secretary of the Air Force Wilson\n",
      "\t- Army Chief of Staff Change of Responsibility\n",
      "\t- Honor Fallen Service Members on Memorial Day Wreath-laying Ceremony\n",
      "\n",
      "\n",
      "\n",
      "\u001b[94m\u001b[1mCluster 6 Words:\u001b[0m\n",
      "\t-ukraine\n",
      "\t-russia\n",
      "\t-united\n",
      "\t-states\n",
      "\t-international\n",
      "\t-face\n",
      "\t-united\n",
      "\t-independent\n",
      "\t-welcomed\n",
      "\t-relationship\n",
      "\n",
      "\u001b[92m\u001b[1mCluster 6 Speech Titles:\n",
      "\u001b[0m\n",
      "\t- Remarks at Bilateral Meeting with Ukrainian Minister of Defense Poltorak\n",
      "\t- Secretary of Defense James Mattis Remarks with President Petro Poroshenko \n",
      "\t- Remarks at Bilateral Meeting with Secretary of State for Defence Williamson\n",
      "\n",
      "\n",
      "\n",
      "\u001b[94m\u001b[1mCluster 7 Words:\u001b[0m\n",
      "\t-ministers\n",
      "\t-welcomed\n",
      "\t-nato\n",
      "\t-member\n",
      "\t-relationship\n",
      "\t-ambassador\n",
      "\t-pentagon\n",
      "\t-alliances\n",
      "\t-looking\n",
      "\t-share\n",
      "\n",
      "\u001b[92m\u001b[1mCluster 7 Speech Titles:\n",
      "\u001b[0m\n",
      "\t- Remarks at Bilateral Meeting with Portuguese Defense Minister Azeredo Lopes\n",
      "\t- Remarks at a Bilateral Meeting with Montenegrin Minister of Defense Boskovic\n",
      "\t- Bilateral Meeting with Australian Defence Minister Payne\n",
      "\t- Bilateral Meeting with Kuwaiti Deputy Prime Minister and Defense Minister al-Sabah\n",
      "\t- Meeting with Polish Minister of National Defence Macierewicz\n",
      "\t- Remarks at Bilateral Meeting with Georgian Minister of Defense Izoria\n",
      "\t- Remarks at Bilateral Meeting with Estonian Minister of Defence Luik\n",
      "\t- Secretary Mattis Remarks at Bilateral Meeting with Republic of Korea Defense Minister Song Young-Moo\n",
      "\n",
      "\n",
      "\n",
      "\u001b[94m\u001b[1mCluster 8 Words:\u001b[0m\n",
      "\t-region\n",
      "\t-asia-pacific\n",
      "\t-united\n",
      "\t-united\n",
      "\t-states\n",
      "\t-china\n",
      "\t-principle\n",
      "\t-network\n",
      "\t-philippines\n",
      "\t-india\n",
      "\n",
      "\u001b[92m\u001b[1mCluster 8 Speech Titles:\n",
      "\u001b[0m\n",
      "\t- \"Networking Defense in the 21st Century\" (Remarks at CNAS)\n",
      "\t- Secretary of Defense Joint Remarks with South Korean Defense Minister Han Min Koo, Seoul, Republic o\n",
      "\t- Remarks on the Next Phase of the U.S. Rebalance to the Asia-Pacific (McCain Institute, Arizona State\n",
      "\t- Remarks at XII Conference of Defense Ministers of the Americas\n",
      "\t- Remarks on \"Asia-Pacific's Principled Security Network\" at 2016 IISS Shangri-La Dialogue\n",
      "\t- Shangri-La Dialogue\n",
      "\t- IISS Shangri-La Dialogue: “A Regional Security Architecture Where Everyone Rises”\n",
      "\t- Remarks on Receiving the Distinguished Service Award from the Center for the National Interest\n",
      "\t- Remarks at Spanish Center for Advanced Studies of National Defense: \"Strong and Principled Security \n",
      "\t- Remarks at U.S. Naval Academy Commencement\n",
      "\n",
      "\n",
      "\n",
      "\u001b[94m\u001b[1mCluster 9 Words:\u001b[0m\n",
      "\t-budget\n",
      "\t-sequestration\n",
      "\t-reforming\n",
      "\t-committee\n",
      "\t-chairman\n",
      "\t-congress\n",
      "\t-fiscal\n",
      "\t-cutting\n",
      "\t-strategy\n",
      "\t-president\n",
      "\n",
      "\u001b[92m\u001b[1mCluster 9 Speech Titles:\n",
      "\u001b[0m\n",
      "\t- Opening Summary -- Senate Appropriations Committee-Defense (Budget Request)\n",
      "\t- Opening Summary -- House Armed Services Committee (Budget Request)\n",
      "\t- Opening Summary -- Senate Armed Services Committee (Budget Request)\n",
      "\t- Opening Summary -- House Appropriations Committee-Defense (Budget Request)\n",
      "\n",
      "\n",
      "\n",
      "\u001b[94m\u001b[1mCluster 10 Words:\u001b[0m\n",
      "\t-sexual\n",
      "\t-assault\n",
      "\t-sexual\n",
      "\t-report\n",
      "\t-prevent\n",
      "\t-responsibilities\n",
      "\t-courage\n",
      "\t-every\n",
      "\t-trusted\n",
      "\t-issue\n",
      "\n",
      "\u001b[92m\u001b[1mCluster 10 Speech Titles:\n",
      "\u001b[0m\n",
      "\t- Statement on Sexual Assault in the Military\n",
      "\t- Remarks by Secretary Carter on Sexual Assault Prevention and Response (Georgetown University)\n",
      "\t- Remarks at Sexual Assault Response Coordinators of the Year Awards\n",
      "\t- Message on Sexual Assault Awareness and Prevention Month\n",
      "\n",
      "\n",
      "\n",
      "\u001b[94m\u001b[1mCluster 11 Words:\u001b[0m\n",
      "\t-budget\n",
      "\t-fiscal\n",
      "\t-sequestration\n",
      "\t-army\n",
      "\t-fiscal\n",
      "\t-technologies\n",
      "\t-ready\n",
      "\t-congress\n",
      "\t-investing\n",
      "\t-billions\n",
      "\n",
      "\u001b[92m\u001b[1mCluster 11 Speech Titles:\n",
      "\u001b[0m\n",
      "\t- \"Defense Innovation Days\" Opening Keynote (Southeastern New England Defense Industry Alliance)\n",
      "\t- Submitted Statement -- Senate Appropriations Committee-Defense (Budget Request)\n",
      "\t- Submitted Statement -- Senate Armed Services Committee (Budget Request)\n",
      "\t- Reagan National Defense Forum Keynote\n",
      "\t- Submitted Statement -- House Appropriations Committee-Defense (Budget Request)\n",
      "\t- Submitted Statement -- House Armed Services Committee (Budget Request)\n",
      "\t- Association of the United States Army (AUSA)\n",
      "\n",
      "\n",
      "\n",
      "\n",
      "\n"
     ]
    }
   ],
   "source": [
    "print(\"{0}Top terms per cluster:{1}\".format(color.BOLD,color.END))\n",
    "print()\n",
    "#sort cluster centers by proximity to centroid\n",
    "order_centroids = km.cluster_centers_.argsort()[:, ::-1] \n",
    "\n",
    "for i in range(num_clusters):\n",
    "    print(\"{0}Cluster {1} Words:{2}\".format(color.BLUE + color.BOLD, i, color.END))\n",
    "    \n",
    "    for ind in order_centroids[i, :10]:\n",
    "        word = str(vocab.loc[terms[ind].split(' ')].values.tolist()[0][0])\n",
    "        print('\\t-{0}'.format(word))\n",
    "    print('')\n",
    "    \n",
    "    print(\"{0}Cluster {1} Speech Titles:\\n{2}\".format(color.GREEN + color.BOLD, i, color.END))\n",
    "    titles = df[df['cluster'] == i].title\n",
    "    for title in titles[:10]:\n",
    "        print('\\t- {0}'.format(title[:100]))\n",
    "    print('\\n\\n')\n",
    "    \n",
    "print('\\n')"
   ]
  },
  {
   "cell_type": "code",
   "execution_count": 207,
   "metadata": {},
   "outputs": [
    {
     "name": "stdout",
     "output_type": "stream",
     "text": [
      "CPU times: user 5.08 ms, sys: 2.24 ms, total: 7.32 ms\n",
      "Wall time: 5.72 ms\n"
     ]
    }
   ],
   "source": [
    "%time X = MinMaxScaler().fit_transform(tfidf_matrix.toarray())"
   ]
  },
  {
   "cell_type": "code",
   "execution_count": 208,
   "metadata": {},
   "outputs": [
    {
     "name": "stdout",
     "output_type": "stream",
     "text": [
      "CPU times: user 45 ms, sys: 6.65 ms, total: 51.6 ms\n",
      "Wall time: 14.7 ms\n"
     ]
    }
   ],
   "source": [
    "%time X = PCA(n_components=2).fit_transform(X)"
   ]
  },
  {
   "cell_type": "code",
   "execution_count": 209,
   "metadata": {},
   "outputs": [
    {
     "data": {
      "text/plain": [
       "(204, 2)"
      ]
     },
     "execution_count": 209,
     "metadata": {},
     "output_type": "execute_result"
    }
   ],
   "source": [
    "X.shape"
   ]
  },
  {
   "cell_type": "code",
   "execution_count": 210,
   "metadata": {},
   "outputs": [
    {
     "data": {
      "image/png": "[encoded data removed]",
      "text/plain": [
       "<Figure size 864x576 with 1 Axes>"
      ]
     },
     "metadata": {},
     "output_type": "display_data"
    }
   ],
   "source": [
    "sns.set_context('poster')\n",
    "sns.set_color_codes()\n",
    "plot_kwds = {'marker': 'o', 'alpha' : 0.75, 's' : 150, 'linewidths':0}\n",
    "\n",
    "labels = clusters\n",
    "end_time = time.time()\n",
    "palette = sns.color_palette('deep', np.unique(labels).max() + 1)\n",
    "colors = [palette[x] if x >= 0 else (0.75, 0.75, 0.75) for x in labels]\n",
    "\n",
    "fig, ax = plt.subplots(figsize=(12, 8))\n",
    "ax.margins(0.05)\n",
    "\n",
    "plt.scatter(X.T[0], X.T[1], c=colors, **plot_kwds)\n",
    "frame = plt.gca()\n",
    "frame.axes.get_xaxis().set_visible(False)\n",
    "frame.axes.get_yaxis().set_visible(False)\n",
    "\n",
    "\n",
    "plt.show()"
   ]
  },
  {
   "cell_type": "code",
   "execution_count": null,
   "metadata": {},
   "outputs": [],
   "source": []
  }
 ],
 "metadata": {
  "kernelspec": {
   "display_name": "Python 3",
   "language": "python",
   "name": "python3"
  },
  "language_info": {
   "codemirror_mode": {
    "name": "ipython",
    "version": 3
   },
   "file_extension": ".py",
   "mimetype": "text/x-python",
   "name": "python",
   "nbconvert_exporter": "python",
   "pygments_lexer": "ipython3",
   "version": "3.7.0"
  }
 },
 "nbformat": 4,
 "nbformat_minor": 2
}
